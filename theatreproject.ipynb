{
 "cells": [
  {
   "cell_type": "code",
   "execution_count": null,
   "id": "79fb05ea-b0f9-4427-af04-582274038f7e",
   "metadata": {},
   "outputs": [
    {
     "name": "stdout",
     "output_type": "stream",
     "text": [
      "movie - 1: LEO\n",
      "movie - 2: YAARIYAN 2\n",
      "movie - 3: JAWAN \n"
     ]
    },
    {
     "name": "stdin",
     "output_type": "stream",
     "text": [
      "enter ur choice 1\n"
     ]
    },
    {
     "name": "stdout",
     "output_type": "stream",
     "text": [
      "LEO screen 1\n"
     ]
    },
    {
     "name": "stdin",
     "output_type": "stream",
     "text": [
      "enter your name manoj choudhary\n"
     ]
    },
    {
     "name": "stdout",
     "output_type": "stream",
     "text": [
      "there is two type of seats\n",
      "    1. normal seat - price 300\n",
      "    2. recliner seat - price 500\n"
     ]
    },
    {
     "name": "stdin",
     "output_type": "stream",
     "text": [
      "enter your choice 2\n",
      "enter number of seats: 2\n"
     ]
    },
    {
     "name": "stdout",
     "output_type": "stream",
     "text": [
      "your amount is 1000\n",
      "press 1 for 100 rs combo\n",
      "    press 2 for 200 rs combo\n",
      "    press 3 for 300 rs combo\n"
     ]
    },
    {
     "name": "stdin",
     "output_type": "stream",
     "text": [
      "enter your choice 3\n"
     ]
    },
    {
     "name": "stdout",
     "output_type": "stream",
     "text": [
      "bill 1300\n",
      "happy weekend\n"
     ]
    }
   ],
   "source": [
    "#ticket booking system\n",
    "\n",
    "nor_seats = 200\n",
    "rec_seats = 50\n",
    "nor_price = 300\n",
    "rec_price = 500\n",
    "\n",
    "combo1 = 100\n",
    "combo2 = 200\n",
    "combo3 = 300\n",
    "\n",
    "#movie choice\n",
    "\n",
    "print(\"\"\"movie - 1: LEO\n",
    "movie - 2: YAARIYAN 2\n",
    "movie - 3: JAWAN \"\"\")\n",
    "movie = input(\"enter ur choice\")\n",
    "if movie == \"1\":\n",
    "    print(\"LEO\",\"screen 1\")\n",
    "elif movie == \"2\":\n",
    "    print(\"YAARIYAN 2\",\"screen 2\")\n",
    "else:\n",
    "    print(\"JAWAN\",\"screen 3\")\n",
    "while True:\n",
    "\n",
    "    name = input(\"enter your name\")\n",
    "    total = 0\n",
    "    print(\"\"\"there is two type of seats\n",
    "    1. normal seat - price 300\n",
    "    2. recliner seat - price 500\"\"\")\n",
    "    \n",
    "    choice = input(\"enter your choice\")\n",
    "#for normal seat   \n",
    "    if choice == \"1\":\n",
    "        seats = int(input(\"enter number of seats:\"))\n",
    "        if seats > 200:\n",
    "            print(\"the normal seats are not avil\",200)\n",
    "            print(\"the avilable recliner seats are\",50)\n",
    "        else:\n",
    "            total = seats * nor_price\n",
    "            nor_seats -= seats\n",
    "            print(\"your amount is\",total)\n",
    "#for recliner seat\n",
    "    elif choice == \"2\":\n",
    "         \n",
    "        seats = int(input(\"enter number of seats:\"))\n",
    "        if seats > 50:\n",
    "            print(\"the recliner seats are not avil\",50)\n",
    "            print(\"the avilable recliner seats are\",50)\n",
    "        else:\n",
    "            total = seats * rec_price\n",
    "            rec_seats -= seats\n",
    "            print(\"your amount is\",total)\n",
    "\n",
    "    print(\"\"\"press 1 for 100 rs combo\n",
    "    press 2 for 200 rs combo\n",
    "    press 3 for 300 rs combo\"\"\")\n",
    "\n",
    "    \n",
    "    combo = int(input(\"enter your choice\"))\n",
    "    if combo == 1:\n",
    "        total += combo1\n",
    "    elif combo == 2:\n",
    "        total += combo2\n",
    "    elif combo == 3:\n",
    "        total += combo3\n",
    "\n",
    "    print(\"bill\",total)\n",
    "    print(\"happy weekend\")\n",
    "            \n",
    "\n",
    "        \n",
    "    "
   ]
  }
 ],
 "metadata": {
  "kernelspec": {
   "display_name": "Python 3 (ipykernel)",
   "language": "python",
   "name": "python3"
  },
  "language_info": {
   "codemirror_mode": {
    "name": "ipython",
    "version": 3
   },
   "file_extension": ".py",
   "mimetype": "text/x-python",
   "name": "python",
   "nbconvert_exporter": "python",
   "pygments_lexer": "ipython3",
   "version": "3.11.6"
  }
 },
 "nbformat": 4,
 "nbformat_minor": 5
}
